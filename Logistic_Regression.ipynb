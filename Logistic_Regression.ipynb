{
  "nbformat": 4,
  "nbformat_minor": 0,
  "metadata": {
    "colab": {
      "provenance": [],
      "authorship_tag": "ABX9TyMasIBe2ntnt7UXLfNi+xiH",
      "include_colab_link": true
    },
    "kernelspec": {
      "name": "python3",
      "display_name": "Python 3"
    },
    "language_info": {
      "name": "python"
    }
  },
  "cells": [
    {
      "cell_type": "markdown",
      "metadata": {
        "id": "view-in-github",
        "colab_type": "text"
      },
      "source": [
        "<a href=\"https://colab.research.google.com/github/Deviprasad21/MACHINE-LEARNING-USING-PYTHON/blob/main/Logistic_Regression.ipynb\" target=\"_parent\"><img src=\"https://colab.research.google.com/assets/colab-badge.svg\" alt=\"Open In Colab\"/></a>"
      ]
    },
    {
      "cell_type": "code",
      "execution_count": 3,
      "metadata": {
        "colab": {
          "base_uri": "https://localhost:8080/"
        },
        "id": "RQmhBcLP1iKV",
        "outputId": "6fdecaa0-5d6f-422c-e7fc-7f4322a87be2"
      },
      "outputs": [
        {
          "output_type": "stream",
          "name": "stdout",
          "text": [
            "Accuracy: 0.78\n",
            "\n",
            "Confusion Matrix:\n",
            "[[106  16]\n",
            " [ 31  61]]\n",
            "\n",
            "Classification Report:\n",
            "              precision    recall  f1-score   support\n",
            "\n",
            "           0       0.77      0.87      0.82       122\n",
            "           1       0.79      0.66      0.72        92\n",
            "\n",
            "    accuracy                           0.78       214\n",
            "   macro avg       0.78      0.77      0.77       214\n",
            "weighted avg       0.78      0.78      0.78       214\n",
            "\n"
          ]
        }
      ],
      "source": [
        "# Logistic Regression on Titanic Dataset (Clean Version)\n",
        "\n",
        "# Import libraries\n",
        "import numpy as np\n",
        "import pandas as pd\n",
        "import seaborn as sns\n",
        "import matplotlib.pyplot as plt\n",
        "from sklearn.model_selection import train_test_split\n",
        "from sklearn.preprocessing import StandardScaler\n",
        "from sklearn.linear_model import LogisticRegression\n",
        "from sklearn.metrics import accuracy_score, confusion_matrix, classification_report\n",
        "\n",
        "# Load Titanic dataset\n",
        "titanic = sns.load_dataset('titanic')\n",
        "\n",
        "# Drop rows with missing values in important columns\n",
        "titanic_clean = titanic.dropna(subset=['age', 'embarked', 'fare'])\n",
        "\n",
        "# Convert categorical variables to numeric safely\n",
        "titanic_clean.loc[:, 'sex'] = titanic_clean['sex'].map({'male': 0, 'female': 1})\n",
        "titanic_clean.loc[:, 'embarked'] = titanic_clean['embarked'].map({'S': 0, 'C': 1, 'Q': 2})\n",
        "\n",
        "# Select features and target\n",
        "features = ['pclass', 'sex', 'age', 'fare', 'embarked']\n",
        "X = titanic_clean[features]\n",
        "y = titanic_clean['survived']\n",
        "\n",
        "# Standardize features\n",
        "scaler = StandardScaler()\n",
        "X_scaled = scaler.fit_transform(X)\n",
        "\n",
        "# Split into training and testing sets\n",
        "X_train, X_test, y_train, y_test = train_test_split(X_scaled, y, test_size=0.3, random_state=42)\n",
        "\n",
        "# Initialize Logistic Regression model\n",
        "logreg = LogisticRegression(max_iter=1000)\n",
        "\n",
        "# Train the model\n",
        "logreg.fit(X_train, y_train)\n",
        "\n",
        "# Predict on test data\n",
        "y_pred = logreg.predict(X_test)\n",
        "\n",
        "# Evaluate accuracy\n",
        "accuracy = accuracy_score(y_test, y_pred)\n",
        "print(f\"Accuracy: {accuracy:.2f}\")\n",
        "\n",
        "# Confusion Matrix\n",
        "print(\"\\nConfusion Matrix:\")\n",
        "print(confusion_matrix(y_test, y_pred))\n",
        "\n",
        "# Classification Report\n",
        "print(\"\\nClassification Report:\")\n",
        "print(classification_report(y_test, y_pred))\n"
      ]
    }
  ]
}