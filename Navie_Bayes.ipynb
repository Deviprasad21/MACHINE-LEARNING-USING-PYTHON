{
  "nbformat": 4,
  "nbformat_minor": 0,
  "metadata": {
    "colab": {
      "provenance": [],
      "authorship_tag": "ABX9TyP45ye6GvM5/r7/+JUT7Oud",
      "include_colab_link": true
    },
    "kernelspec": {
      "name": "python3",
      "display_name": "Python 3"
    },
    "language_info": {
      "name": "python"
    }
  },
  "cells": [
    {
      "cell_type": "markdown",
      "metadata": {
        "id": "view-in-github",
        "colab_type": "text"
      },
      "source": [
        "<a href=\"https://colab.research.google.com/github/Deviprasad21/MACHINE-LEARNING-USING-PYTHON/blob/main/Navie_Bayes.ipynb\" target=\"_parent\"><img src=\"https://colab.research.google.com/assets/colab-badge.svg\" alt=\"Open In Colab\"/></a>"
      ]
    },
    {
      "cell_type": "code",
      "execution_count": 1,
      "metadata": {
        "colab": {
          "base_uri": "https://localhost:8080/",
          "height": 1000
        },
        "id": "dtScIT3czUlL",
        "outputId": "0071f9ef-c8d8-40e9-bcf7-86b806fc6363"
      },
      "outputs": [
        {
          "output_type": "stream",
          "name": "stdout",
          "text": [
            "Accuracy: 0.85\n",
            "\n",
            "Confusion Matrix:\n",
            "[[52  0  0  0  0  0  0  1  0  0]\n",
            " [ 0 37  2  0  0  0  0  2  6  3]\n",
            " [ 0  3 31  0  0  0  1  0 12  0]\n",
            " [ 0  0  2 41  0  0  1  0  8  2]\n",
            " [ 0  0  0  0 51  0  2  7  0  0]\n",
            " [ 0  0  0  1  0 62  1  2  0  0]\n",
            " [ 0  0  0  0  1  1 51  0  0  0]\n",
            " [ 0  0  0  0  0  1  0 54  0  0]\n",
            " [ 0  2  0  0  0  0  0  2 39  0]\n",
            " [ 0  1  1  1  0  2  1  7  4 42]]\n",
            "\n",
            "Classification Report:\n",
            "              precision    recall  f1-score   support\n",
            "\n",
            "           0       1.00      0.98      0.99        53\n",
            "           1       0.86      0.74      0.80        50\n",
            "           2       0.86      0.66      0.75        47\n",
            "           3       0.95      0.76      0.85        54\n",
            "           4       0.98      0.85      0.91        60\n",
            "           5       0.94      0.94      0.94        66\n",
            "           6       0.89      0.96      0.93        53\n",
            "           7       0.72      0.98      0.83        55\n",
            "           8       0.57      0.91      0.70        43\n",
            "           9       0.89      0.71      0.79        59\n",
            "\n",
            "    accuracy                           0.85       540\n",
            "   macro avg       0.87      0.85      0.85       540\n",
            "weighted avg       0.88      0.85      0.85       540\n",
            "\n"
          ]
        },
        {
          "output_type": "display_data",
          "data": {
            "text/plain": [
              "<Figure size 1000x500 with 10 Axes>"
            ],
            "image/png": "[encoded data removed]"
          },
          "metadata": {}
        }
      ],
      "source": [
        "# Naive Bayes Classification on Digits Dataset\n",
        "\n",
        "# Import libraries\n",
        "import numpy as np\n",
        "import pandas as pd\n",
        "import matplotlib.pyplot as plt\n",
        "from sklearn import datasets\n",
        "from sklearn.model_selection import train_test_split\n",
        "from sklearn.naive_bayes import GaussianNB\n",
        "from sklearn.metrics import accuracy_score, confusion_matrix, classification_report\n",
        "\n",
        "# Load Digits dataset\n",
        "digits = datasets.load_digits()\n",
        "X = pd.DataFrame(digits.data)\n",
        "y = pd.Series(digits.target)\n",
        "\n",
        "# Split into training and testing sets\n",
        "X_train, X_test, y_train, y_test = train_test_split(X, y, test_size=0.3, random_state=42)\n",
        "\n",
        "# Initialize Gaussian Naive Bayes classifier\n",
        "gnb = GaussianNB()\n",
        "\n",
        "# Train the model\n",
        "gnb.fit(X_train, y_train)\n",
        "\n",
        "# Predict on test data\n",
        "y_pred = gnb.predict(X_test)\n",
        "\n",
        "# Evaluate accuracy\n",
        "accuracy = accuracy_score(y_test, y_pred)\n",
        "print(f\"Accuracy: {accuracy:.2f}\")\n",
        "\n",
        "# Confusion Matrix\n",
        "print(\"\\nConfusion Matrix:\")\n",
        "print(confusion_matrix(y_test, y_pred))\n",
        "\n",
        "# Classification Report\n",
        "print(\"\\nClassification Report:\")\n",
        "print(classification_report(y_test, y_pred))\n",
        "\n",
        "# Plot a few test images with predictions\n",
        "fig, axes = plt.subplots(2, 5, figsize=(10, 5))\n",
        "for i, ax in enumerate(axes.flat):\n",
        "    ax.imshow(X_test.iloc[i].values.reshape(8, 8), cmap='gray')\n",
        "    ax.set_title(f\"Pred: {y_pred[i]}\\nTrue: {y_test.iloc[i]}\")\n",
        "    ax.axis('off')\n",
        "plt.tight_layout()\n",
        "plt.show()\n"
      ]
    }
  ]
}